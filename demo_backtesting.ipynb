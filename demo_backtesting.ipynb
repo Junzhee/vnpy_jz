{
 "cells": [
  {
   "cell_type": "code",
   "execution_count": 10,
   "id": "d02f6cd5",
   "metadata": {},
   "outputs": [],
   "source": [
    "from vnpy.trader.optimize import OptimizationSetting\n",
    "from vnpy_ctastrategy.backtesting import BacktestingEngine\n",
    "from vnpy_ctastrategy.strategies.atr_rsi_strategy import (\n",
    "    AtrRsiStrategy,\n",
    ")\n",
    "from vnpy_ctastrategy.strategies.double_ma_strategy import (\n",
    "    DoubleMaStrategy,\n",
    ")\n",
    "from vnpy_ctastrategy.strategies.turtle_signal_strategy import (\n",
    "    TurtleSignalStrategy\n",
    ")\n",
    "import os\n",
    "from datetime import datetime"
   ]
  },
  {
   "cell_type": "code",
   "execution_count": 11,
   "id": "bfa91550",
   "metadata": {},
   "outputs": [],
   "source": [
    "engine = BacktestingEngine()\n",
    "engine.set_parameters(\n",
    "    vt_symbol=\"BTCUSDT.BINANCE\",\n",
    "    interval=\"1m\",\n",
    "    start=datetime(2024, 2, 1),\n",
    "    end=datetime(2024, 2, 3),\n",
    "    rate=0.3/10000,\n",
    "    slippage=0.2,\n",
    "    size=300,\n",
    "    pricetick=0.1,\n",
    "    capital=1_000_000,\n",
    ")\n",
    "engine.add_strategy(TurtleSignalStrategy, {})"
   ]
  },
  {
   "cell_type": "code",
   "execution_count": 12,
   "id": "8d0f38eb",
   "metadata": {},
   "outputs": [
    {
     "name": "stdout",
     "output_type": "stream",
     "text": [
      "2025-08-25 17:18:17.959447\t开始加载历史数据\n",
      "2025-08-25 17:18:17.959569\t加载进度：# [0%]\n",
      "2025-08-25 17:18:17.959697\t加载进度：###### [50%]\n",
      "2025-08-25 17:18:17.959809\t加载进度：########### [100%]\n",
      "2025-08-25 17:18:17.959928\t历史数据加载完成，数据量：4320\n"
     ]
    }
   ],
   "source": [
    "engine.load_data()"
   ]
  },
  {
   "cell_type": "code",
   "execution_count": 13,
   "id": "7d11c61b",
   "metadata": {},
   "outputs": [
    {
     "name": "stdout",
     "output_type": "stream",
     "text": [
      "2025-08-25 17:18:20.382972\t策略初始化完成\n",
      "2025-08-25 17:18:20.383107\t开始回放历史数据\n",
      "2025-08-25 17:18:20.407220\t回放进度：= [0%]\n",
      "2025-08-25 17:18:20.428577\t回放进度：== [10%]\n",
      "2025-08-25 17:18:20.442050\t回放进度：=== [20%]\n",
      "2025-08-25 17:18:20.453925\t回放进度：==== [30%]\n",
      "2025-08-25 17:18:20.468016\t回放进度：===== [40%]\n",
      "2025-08-25 17:18:20.480830\t回放进度：====== [50%]\n",
      "2025-08-25 17:18:20.494232\t回放进度：======= [60%]\n",
      "2025-08-25 17:18:20.506839\t回放进度：======== [70%]\n",
      "2025-08-25 17:18:20.524166\t回放进度：========= [80%]\n",
      "2025-08-25 17:18:20.535900\t回放进度：========== [90%]\n",
      "2025-08-25 17:18:20.535936\t历史数据回放结束\n"
     ]
    }
   ],
   "source": [
    "engine.run_backtesting()"
   ]
  },
  {
   "cell_type": "code",
   "execution_count": 14,
   "id": "3afc6886",
   "metadata": {},
   "outputs": [
    {
     "name": "stdout",
     "output_type": "stream",
     "text": [
      "2025-08-25 17:18:21.638709\t开始计算逐日盯市盈亏\n",
      "2025-08-25 17:18:21.652735\t逐日盯市盈亏计算完成\n"
     ]
    }
   ],
   "source": [
    "df = engine.calculate_result()"
   ]
  },
  {
   "cell_type": "code",
   "execution_count": 15,
   "id": "3b73c998",
   "metadata": {},
   "outputs": [
    {
     "name": "stdout",
     "output_type": "stream",
     "text": [
      "2025-08-25 17:18:24.540819\t开始计算策略统计指标\n",
      "2025-08-25 17:18:24.552430\t------------------------------\n",
      "2025-08-25 17:18:24.552468\t首个交易日：\t2024-02-01\n",
      "2025-08-25 17:18:24.552479\t最后交易日：\t2024-02-03\n",
      "2025-08-25 17:18:24.552489\t总交易日：\t3\n",
      "2025-08-25 17:18:24.552497\t盈利交易日：\t3\n",
      "2025-08-25 17:18:24.552506\t亏损交易日：\t0\n",
      "2025-08-25 17:18:24.552520\t起始资金：\t1,000,000.00\n",
      "2025-08-25 17:18:24.552537\t结束资金：\t2,387,820.67\n",
      "2025-08-25 17:18:24.552549\t总收益率：\t138.78%\n",
      "2025-08-25 17:18:24.552558\t年化收益：\t11,102.57%\n",
      "2025-08-25 17:18:24.552567\t最大回撤: \t0.00\n",
      "2025-08-25 17:18:24.552576\t百分比最大回撤: 0.00%\n",
      "2025-08-25 17:18:24.552584\t最大回撤天数: \t0\n",
      "2025-08-25 17:18:24.552592\t总盈亏：\t1,387,820.67\n",
      "2025-08-25 17:18:24.552600\t总手续费：\t545,778.33\n",
      "2025-08-25 17:18:24.552608\t总滑点：\t84,840.00\n",
      "2025-08-25 17:18:24.552616\t总成交金额：\t18,192,611,127.00\n",
      "2025-08-25 17:18:24.552625\t总成交笔数：\t925\n",
      "2025-08-25 17:18:24.552633\t日均盈亏：\t462,606.89\n",
      "2025-08-25 17:18:24.552641\t日均手续费：\t181,926.11\n",
      "2025-08-25 17:18:24.552649\t日均滑点：\t28,280.00\n",
      "2025-08-25 17:18:24.552657\t日均成交金额：\t6,064,203,709.00\n",
      "2025-08-25 17:18:24.552667\t日均成交笔数：\t308.3333333333333\n",
      "2025-08-25 17:18:24.552837\t日均收益率：\t29.01%\n",
      "2025-08-25 17:18:24.552894\t收益标准差：\t19.99%\n",
      "2025-08-25 17:18:24.552949\tSharpe Ratio：\t22.49\n",
      "2025-08-25 17:18:24.552965\tEWM Sharpe：\t22.45\n",
      "2025-08-25 17:18:24.552979\t收益回撤比：\t0.00\n",
      "2025-08-25 17:18:24.553652\t策略统计指标计算完成\n"
     ]
    },
    {
     "data": {
      "text/plain": [
       "{'start_date': datetime.date(2024, 2, 1),\n",
       " 'end_date': datetime.date(2024, 2, 3),\n",
       " 'total_days': np.int64(3),\n",
       " 'profit_days': np.int64(3),\n",
       " 'loss_days': np.int64(0),\n",
       " 'capital': np.int64(1000000),\n",
       " 'end_balance': np.float64(2387820.6661900114),\n",
       " 'max_drawdown': np.float64(0.0),\n",
       " 'max_ddpercent': np.float64(0.0),\n",
       " 'max_drawdown_duration': np.int64(0),\n",
       " 'total_net_pnl': np.float64(1387820.6661900112),\n",
       " 'daily_net_pnl': np.float64(462606.88873000373),\n",
       " 'total_commission': np.float64(545778.33381),\n",
       " 'daily_commission': np.float64(181926.11127),\n",
       " 'total_slippage': np.float64(84840.0),\n",
       " 'daily_slippage': np.float64(28280.0),\n",
       " 'total_turnover': np.float64(18192611127.0),\n",
       " 'daily_turnover': np.float64(6064203709.0),\n",
       " 'total_trade_count': np.int64(925),\n",
       " 'daily_trade_count': np.float64(308.3333333333333),\n",
       " 'total_return': np.float64(138.7820666190011),\n",
       " 'annual_return': np.float64(11102.565329520088),\n",
       " 'daily_return': np.float64(29.012703159999525),\n",
       " 'return_std': np.float64(19.98731703456154),\n",
       " 'sharpe_ratio': np.float64(22.48740358154877),\n",
       " 'ewm_sharpe': np.float64(22.45228014333495),\n",
       " 'return_drawdown_ratio': np.int64(0)}"
      ]
     },
     "execution_count": 15,
     "metadata": {},
     "output_type": "execute_result"
    }
   ],
   "source": [
    "engine.calculate_statistics()"
   ]
  },
  {
   "cell_type": "code",
   "execution_count": 7,
   "id": "8ae44168",
   "metadata": {},
   "outputs": [
    {
     "data": {
      "application/vnd.plotly.v1+json": {
       "config": {
        "plotlyServerURL": "https://plot.ly"
       },
       "data": [
        {
         "mode": "lines",
         "name": "Balance",
         "type": "scatter",
         "x": [
          "2024-02-01",
          "2024-02-02",
          "2024-02-03"
         ],
         "xaxis": "x",
         "y": {
          "bdata": "wg8jhPVwIEFg4h4rG4QiQTw51oUppBNB",
          "dtype": "f8"
         },
         "yaxis": "y"
        },
        {
         "fill": "tozeroy",
         "fillcolor": "red",
         "mode": "lines",
         "name": "Drawdown",
         "type": "scatter",
         "x": [
          "2024-02-01",
          "2024-02-02",
          "2024-02-03"
         ],
         "xaxis": "x2",
         "y": {
          "bdata": "AAAAAAAAAAAAAAAAAAAAAISLZ9AMZBHB",
          "dtype": "f8"
         },
         "yaxis": "y2"
        },
        {
         "name": "Daily Pnl",
         "type": "bar",
         "xaxis": "x3",
         "y": {
          "bdata": "fOC59xQnHMHwlN43LZnwQIOLZ9AMZBHB",
          "dtype": "f8"
         },
         "yaxis": "y3"
        },
        {
         "name": "Days",
         "nbinsx": 100,
         "type": "histogram",
         "x": {
          "bdata": "fOC59xQnHMHwlN43LZnwQIOLZ9AMZBHB",
          "dtype": "f8"
         },
         "xaxis": "x4",
         "yaxis": "y4"
        }
       ],
       "layout": {
        "annotations": [
         {
          "font": {
           "size": 16
          },
          "showarrow": false,
          "text": "Balance",
          "x": 0.5,
          "xanchor": "center",
          "xref": "paper",
          "y": 1,
          "yanchor": "bottom",
          "yref": "paper"
         },
         {
          "font": {
           "size": 16
          },
          "showarrow": false,
          "text": "Drawdown",
          "x": 0.5,
          "xanchor": "center",
          "xref": "paper",
          "y": 0.7350000000000001,
          "yanchor": "bottom",
          "yref": "paper"
         },
         {
          "font": {
           "size": 16
          },
          "showarrow": false,
          "text": "Daily Pnl",
          "x": 0.5,
          "xanchor": "center",
          "xref": "paper",
          "y": 0.47000000000000003,
          "yanchor": "bottom",
          "yref": "paper"
         },
         {
          "font": {
           "size": 16
          },
          "showarrow": false,
          "text": "Pnl Distribution",
          "x": 0.5,
          "xanchor": "center",
          "xref": "paper",
          "y": 0.20500000000000002,
          "yanchor": "bottom",
          "yref": "paper"
         }
        ],
        "height": 1000,
        "template": {
         "data": {
          "bar": [
           {
            "error_x": {
             "color": "#2a3f5f"
            },
            "error_y": {
             "color": "#2a3f5f"
            },
            "marker": {
             "line": {
              "color": "#E5ECF6",
              "width": 0.5
             },
             "pattern": {
              "fillmode": "overlay",
              "size": 10,
              "solidity": 0.2
             }
            },
            "type": "bar"
           }
          ],
          "barpolar": [
           {
            "marker": {
             "line": {
              "color": "#E5ECF6",
              "width": 0.5
             },
             "pattern": {
              "fillmode": "overlay",
              "size": 10,
              "solidity": 0.2
             }
            },
            "type": "barpolar"
           }
          ],
          "carpet": [
           {
            "aaxis": {
             "endlinecolor": "#2a3f5f",
             "gridcolor": "white",
             "linecolor": "white",
             "minorgridcolor": "white",
             "startlinecolor": "#2a3f5f"
            },
            "baxis": {
             "endlinecolor": "#2a3f5f",
             "gridcolor": "white",
             "linecolor": "white",
             "minorgridcolor": "white",
             "startlinecolor": "#2a3f5f"
            },
            "type": "carpet"
           }
          ],
          "choropleth": [
           {
            "colorbar": {
             "outlinewidth": 0,
             "ticks": ""
            },
            "type": "choropleth"
           }
          ],
          "contour": [
           {
            "colorbar": {
             "outlinewidth": 0,
             "ticks": ""
            },
            "colorscale": [
             [
              0,
              "#0d0887"
             ],
             [
              0.1111111111111111,
              "#46039f"
             ],
             [
              0.2222222222222222,
              "#7201a8"
             ],
             [
              0.3333333333333333,
              "#9c179e"
             ],
             [
              0.4444444444444444,
              "#bd3786"
             ],
             [
              0.5555555555555556,
              "#d8576b"
             ],
             [
              0.6666666666666666,
              "#ed7953"
             ],
             [
              0.7777777777777778,
              "#fb9f3a"
             ],
             [
              0.8888888888888888,
              "#fdca26"
             ],
             [
              1,
              "#f0f921"
             ]
            ],
            "type": "contour"
           }
          ],
          "contourcarpet": [
           {
            "colorbar": {
             "outlinewidth": 0,
             "ticks": ""
            },
            "type": "contourcarpet"
           }
          ],
          "heatmap": [
           {
            "colorbar": {
             "outlinewidth": 0,
             "ticks": ""
            },
            "colorscale": [
             [
              0,
              "#0d0887"
             ],
             [
              0.1111111111111111,
              "#46039f"
             ],
             [
              0.2222222222222222,
              "#7201a8"
             ],
             [
              0.3333333333333333,
              "#9c179e"
             ],
             [
              0.4444444444444444,
              "#bd3786"
             ],
             [
              0.5555555555555556,
              "#d8576b"
             ],
             [
              0.6666666666666666,
              "#ed7953"
             ],
             [
              0.7777777777777778,
              "#fb9f3a"
             ],
             [
              0.8888888888888888,
              "#fdca26"
             ],
             [
              1,
              "#f0f921"
             ]
            ],
            "type": "heatmap"
           }
          ],
          "histogram": [
           {
            "marker": {
             "pattern": {
              "fillmode": "overlay",
              "size": 10,
              "solidity": 0.2
             }
            },
            "type": "histogram"
           }
          ],
          "histogram2d": [
           {
            "colorbar": {
             "outlinewidth": 0,
             "ticks": ""
            },
            "colorscale": [
             [
              0,
              "#0d0887"
             ],
             [
              0.1111111111111111,
              "#46039f"
             ],
             [
              0.2222222222222222,
              "#7201a8"
             ],
             [
              0.3333333333333333,
              "#9c179e"
             ],
             [
              0.4444444444444444,
              "#bd3786"
             ],
             [
              0.5555555555555556,
              "#d8576b"
             ],
             [
              0.6666666666666666,
              "#ed7953"
             ],
             [
              0.7777777777777778,
              "#fb9f3a"
             ],
             [
              0.8888888888888888,
              "#fdca26"
             ],
             [
              1,
              "#f0f921"
             ]
            ],
            "type": "histogram2d"
           }
          ],
          "histogram2dcontour": [
           {
            "colorbar": {
             "outlinewidth": 0,
             "ticks": ""
            },
            "colorscale": [
             [
              0,
              "#0d0887"
             ],
             [
              0.1111111111111111,
              "#46039f"
             ],
             [
              0.2222222222222222,
              "#7201a8"
             ],
             [
              0.3333333333333333,
              "#9c179e"
             ],
             [
              0.4444444444444444,
              "#bd3786"
             ],
             [
              0.5555555555555556,
              "#d8576b"
             ],
             [
              0.6666666666666666,
              "#ed7953"
             ],
             [
              0.7777777777777778,
              "#fb9f3a"
             ],
             [
              0.8888888888888888,
              "#fdca26"
             ],
             [
              1,
              "#f0f921"
             ]
            ],
            "type": "histogram2dcontour"
           }
          ],
          "mesh3d": [
           {
            "colorbar": {
             "outlinewidth": 0,
             "ticks": ""
            },
            "type": "mesh3d"
           }
          ],
          "parcoords": [
           {
            "line": {
             "colorbar": {
              "outlinewidth": 0,
              "ticks": ""
             }
            },
            "type": "parcoords"
           }
          ],
          "pie": [
           {
            "automargin": true,
            "type": "pie"
           }
          ],
          "scatter": [
           {
            "fillpattern": {
             "fillmode": "overlay",
             "size": 10,
             "solidity": 0.2
            },
            "type": "scatter"
           }
          ],
          "scatter3d": [
           {
            "line": {
             "colorbar": {
              "outlinewidth": 0,
              "ticks": ""
             }
            },
            "marker": {
             "colorbar": {
              "outlinewidth": 0,
              "ticks": ""
             }
            },
            "type": "scatter3d"
           }
          ],
          "scattercarpet": [
           {
            "marker": {
             "colorbar": {
              "outlinewidth": 0,
              "ticks": ""
             }
            },
            "type": "scattercarpet"
           }
          ],
          "scattergeo": [
           {
            "marker": {
             "colorbar": {
              "outlinewidth": 0,
              "ticks": ""
             }
            },
            "type": "scattergeo"
           }
          ],
          "scattergl": [
           {
            "marker": {
             "colorbar": {
              "outlinewidth": 0,
              "ticks": ""
             }
            },
            "type": "scattergl"
           }
          ],
          "scattermap": [
           {
            "marker": {
             "colorbar": {
              "outlinewidth": 0,
              "ticks": ""
             }
            },
            "type": "scattermap"
           }
          ],
          "scattermapbox": [
           {
            "marker": {
             "colorbar": {
              "outlinewidth": 0,
              "ticks": ""
             }
            },
            "type": "scattermapbox"
           }
          ],
          "scatterpolar": [
           {
            "marker": {
             "colorbar": {
              "outlinewidth": 0,
              "ticks": ""
             }
            },
            "type": "scatterpolar"
           }
          ],
          "scatterpolargl": [
           {
            "marker": {
             "colorbar": {
              "outlinewidth": 0,
              "ticks": ""
             }
            },
            "type": "scatterpolargl"
           }
          ],
          "scatterternary": [
           {
            "marker": {
             "colorbar": {
              "outlinewidth": 0,
              "ticks": ""
             }
            },
            "type": "scatterternary"
           }
          ],
          "surface": [
           {
            "colorbar": {
             "outlinewidth": 0,
             "ticks": ""
            },
            "colorscale": [
             [
              0,
              "#0d0887"
             ],
             [
              0.1111111111111111,
              "#46039f"
             ],
             [
              0.2222222222222222,
              "#7201a8"
             ],
             [
              0.3333333333333333,
              "#9c179e"
             ],
             [
              0.4444444444444444,
              "#bd3786"
             ],
             [
              0.5555555555555556,
              "#d8576b"
             ],
             [
              0.6666666666666666,
              "#ed7953"
             ],
             [
              0.7777777777777778,
              "#fb9f3a"
             ],
             [
              0.8888888888888888,
              "#fdca26"
             ],
             [
              1,
              "#f0f921"
             ]
            ],
            "type": "surface"
           }
          ],
          "table": [
           {
            "cells": {
             "fill": {
              "color": "#EBF0F8"
             },
             "line": {
              "color": "white"
             }
            },
            "header": {
             "fill": {
              "color": "#C8D4E3"
             },
             "line": {
              "color": "white"
             }
            },
            "type": "table"
           }
          ]
         },
         "layout": {
          "annotationdefaults": {
           "arrowcolor": "#2a3f5f",
           "arrowhead": 0,
           "arrowwidth": 1
          },
          "autotypenumbers": "strict",
          "coloraxis": {
           "colorbar": {
            "outlinewidth": 0,
            "ticks": ""
           }
          },
          "colorscale": {
           "diverging": [
            [
             0,
             "#8e0152"
            ],
            [
             0.1,
             "#c51b7d"
            ],
            [
             0.2,
             "#de77ae"
            ],
            [
             0.3,
             "#f1b6da"
            ],
            [
             0.4,
             "#fde0ef"
            ],
            [
             0.5,
             "#f7f7f7"
            ],
            [
             0.6,
             "#e6f5d0"
            ],
            [
             0.7,
             "#b8e186"
            ],
            [
             0.8,
             "#7fbc41"
            ],
            [
             0.9,
             "#4d9221"
            ],
            [
             1,
             "#276419"
            ]
           ],
           "sequential": [
            [
             0,
             "#0d0887"
            ],
            [
             0.1111111111111111,
             "#46039f"
            ],
            [
             0.2222222222222222,
             "#7201a8"
            ],
            [
             0.3333333333333333,
             "#9c179e"
            ],
            [
             0.4444444444444444,
             "#bd3786"
            ],
            [
             0.5555555555555556,
             "#d8576b"
            ],
            [
             0.6666666666666666,
             "#ed7953"
            ],
            [
             0.7777777777777778,
             "#fb9f3a"
            ],
            [
             0.8888888888888888,
             "#fdca26"
            ],
            [
             1,
             "#f0f921"
            ]
           ],
           "sequentialminus": [
            [
             0,
             "#0d0887"
            ],
            [
             0.1111111111111111,
             "#46039f"
            ],
            [
             0.2222222222222222,
             "#7201a8"
            ],
            [
             0.3333333333333333,
             "#9c179e"
            ],
            [
             0.4444444444444444,
             "#bd3786"
            ],
            [
             0.5555555555555556,
             "#d8576b"
            ],
            [
             0.6666666666666666,
             "#ed7953"
            ],
            [
             0.7777777777777778,
             "#fb9f3a"
            ],
            [
             0.8888888888888888,
             "#fdca26"
            ],
            [
             1,
             "#f0f921"
            ]
           ]
          },
          "colorway": [
           "#636efa",
           "#EF553B",
           "#00cc96",
           "#ab63fa",
           "#FFA15A",
           "#19d3f3",
           "#FF6692",
           "#B6E880",
           "#FF97FF",
           "#FECB52"
          ],
          "font": {
           "color": "#2a3f5f"
          },
          "geo": {
           "bgcolor": "white",
           "lakecolor": "white",
           "landcolor": "#E5ECF6",
           "showlakes": true,
           "showland": true,
           "subunitcolor": "white"
          },
          "hoverlabel": {
           "align": "left"
          },
          "hovermode": "closest",
          "mapbox": {
           "style": "light"
          },
          "paper_bgcolor": "white",
          "plot_bgcolor": "#E5ECF6",
          "polar": {
           "angularaxis": {
            "gridcolor": "white",
            "linecolor": "white",
            "ticks": ""
           },
           "bgcolor": "#E5ECF6",
           "radialaxis": {
            "gridcolor": "white",
            "linecolor": "white",
            "ticks": ""
           }
          },
          "scene": {
           "xaxis": {
            "backgroundcolor": "#E5ECF6",
            "gridcolor": "white",
            "gridwidth": 2,
            "linecolor": "white",
            "showbackground": true,
            "ticks": "",
            "zerolinecolor": "white"
           },
           "yaxis": {
            "backgroundcolor": "#E5ECF6",
            "gridcolor": "white",
            "gridwidth": 2,
            "linecolor": "white",
            "showbackground": true,
            "ticks": "",
            "zerolinecolor": "white"
           },
           "zaxis": {
            "backgroundcolor": "#E5ECF6",
            "gridcolor": "white",
            "gridwidth": 2,
            "linecolor": "white",
            "showbackground": true,
            "ticks": "",
            "zerolinecolor": "white"
           }
          },
          "shapedefaults": {
           "line": {
            "color": "#2a3f5f"
           }
          },
          "ternary": {
           "aaxis": {
            "gridcolor": "white",
            "linecolor": "white",
            "ticks": ""
           },
           "baxis": {
            "gridcolor": "white",
            "linecolor": "white",
            "ticks": ""
           },
           "bgcolor": "#E5ECF6",
           "caxis": {
            "gridcolor": "white",
            "linecolor": "white",
            "ticks": ""
           }
          },
          "title": {
           "x": 0.05
          },
          "xaxis": {
           "automargin": true,
           "gridcolor": "white",
           "linecolor": "white",
           "ticks": "",
           "title": {
            "standoff": 15
           },
           "zerolinecolor": "white",
           "zerolinewidth": 2
          },
          "yaxis": {
           "automargin": true,
           "gridcolor": "white",
           "linecolor": "white",
           "ticks": "",
           "title": {
            "standoff": 15
           },
           "zerolinecolor": "white",
           "zerolinewidth": 2
          }
         }
        },
        "width": 1000,
        "xaxis": {
         "anchor": "y",
         "domain": [
          0,
          1
         ]
        },
        "xaxis2": {
         "anchor": "y2",
         "domain": [
          0,
          1
         ]
        },
        "xaxis3": {
         "anchor": "y3",
         "domain": [
          0,
          1
         ]
        },
        "xaxis4": {
         "anchor": "y4",
         "domain": [
          0,
          1
         ]
        },
        "yaxis": {
         "anchor": "x",
         "domain": [
          0.7949999999999999,
          1
         ]
        },
        "yaxis2": {
         "anchor": "x2",
         "domain": [
          0.53,
          0.7350000000000001
         ]
        },
        "yaxis3": {
         "anchor": "x3",
         "domain": [
          0.265,
          0.47000000000000003
         ]
        },
        "yaxis4": {
         "anchor": "x4",
         "domain": [
          0,
          0.20500000000000002
         ]
        }
       }
      }
     },
     "metadata": {},
     "output_type": "display_data"
    }
   ],
   "source": [
    "engine.show_chart()\n",
    "\n",
    "# # 优化（如有）\n",
    "# setting = OptimizationSetting()\n",
    "# setting.set_target(\"sharpe_ratio\")\n",
    "# setting.add_parameter(\"atr_length\", 25, 27, 1)\n",
    "# setting.add_parameter(\"atr_ma_length\", 10, 30, 10)\n",
    "\n",
    "# engine.run_ga_optimization(setting)\n",
    "# engine.run_bf_optimization(setting)"
   ]
  },
  {
   "cell_type": "code",
   "execution_count": null,
   "id": "0632775b",
   "metadata": {},
   "outputs": [],
   "source": []
  },
  {
   "cell_type": "code",
   "execution_count": null,
   "id": "c84d0a66",
   "metadata": {},
   "outputs": [],
   "source": []
  },
  {
   "cell_type": "code",
   "execution_count": null,
   "id": "a336620e",
   "metadata": {},
   "outputs": [],
   "source": []
  }
 ],
 "metadata": {
  "kernelspec": {
   "display_name": "vnpy",
   "language": "python",
   "name": "python3"
  },
  "language_info": {
   "codemirror_mode": {
    "name": "ipython",
    "version": 3
   },
   "file_extension": ".py",
   "mimetype": "text/x-python",
   "name": "python",
   "nbconvert_exporter": "python",
   "pygments_lexer": "ipython3",
   "version": "3.13.5"
  }
 },
 "nbformat": 4,
 "nbformat_minor": 5
}
